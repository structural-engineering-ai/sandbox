{
  "cells": [
    {
      "cell_type": "code",
      "source": [
        "\"\"\"\n",
        "Demo model - so there is a lot of code that was left commented out during development.\n",
        "Update file locations to match where you generated data.  \n",
        "\n",
        "Test data will be required from the generator to train.\n",
        "\"\"\""
      ],
      "metadata": {
        "colab": {
          "base_uri": "https://localhost:8080/",
          "height": 35
        },
        "id": "vvFpPSI0_OV0",
        "outputId": "0333b19a-1e0a-42d1-83b7-3c668e1f80c1"
      },
      "execution_count": 3,
      "outputs": [
        {
          "output_type": "execute_result",
          "data": {
            "text/plain": [
              "'\\nDemo model - so there is a lot of code that was left commented out during development.\\nUpdate file locations to match where you generated data.  \\n\\n\\n'"
            ],
            "application/vnd.google.colaboratory.intrinsic+json": {
              "type": "string"
            }
          },
          "metadata": {},
          "execution_count": 3
        }
      ]
    },
    {
      "cell_type": "code",
      "execution_count": null,
      "metadata": {
        "id": "MPRY05-9Rfgh"
      },
      "outputs": [],
      "source": [
        "# Load the TensorBoard notebook extension\n",
        "%load_ext tensorboard"
      ]
    },
    {
      "cell_type": "code",
      "execution_count": null,
      "metadata": {
        "id": "g8zTn6AgKiQh"
      },
      "outputs": [],
      "source": [
        "import tensorflow as tf\n",
        "import numpy as np\n",
        "\n",
        "from matplotlib import pyplot as plt\n",
        "from IPython import display"
      ]
    },
    {
      "cell_type": "code",
      "execution_count": null,
      "metadata": {
        "id": "bfcp3sJwNoXA"
      },
      "outputs": [],
      "source": [
        "try:\n",
        "  tpu = tf.distribute.cluster_resolver.TPUClusterResolver()  # TPU detection\n",
        "  print('Running on TPU ', tpu.cluster_spec().as_dict()['worker'])\n",
        "except ValueError:\n",
        "  raise BaseException('ERROR: Not connected to a TPU runtime; please see the previous cell in this notebook for instructions!')\n",
        "\n",
        "tf.config.experimental_connect_to_cluster(tpu)\n",
        "tf.tpu.experimental.initialize_tpu_system(tpu)\n",
        "tpu_strategy = tf.distribute.experimental.TPUStrategy(tpu)"
      ]
    },
    {
      "cell_type": "markdown",
      "metadata": {
        "id": "14oxIsa-BB1W"
      },
      "source": [
        "INPUT PIPELINE"
      ]
    },
    {
      "cell_type": "code",
      "execution_count": null,
      "metadata": {
        "id": "vacet2CQ_DbG"
      },
      "outputs": [],
      "source": [
        "\"\"\"\n",
        "Update the file locations to where your training data is located\n",
        "\"\"\"\n",
        "\n",
        "# get data files\n",
        "\n",
        "train_x = np.load('/content/drive/MyDrive/framebot/data/train_input.npy', allow_pickle=True)\n",
        "train_y = np.load('/content/drive/MyDrive/framebot/data/train_label.npy', allow_pickle=True)\n",
        "\n",
        "val_x = np.load('/content/drive/MyDrive/framebot/data/val_input.npy', allow_pickle=True)\n",
        "val_y = np.load('/content/drive/MyDrive/framebot/data/val_label.npy', allow_pickle=True)\n",
        "\n",
        "test_x = np.load('/content/drive/MyDrive/framebot/data/test_input.npy', allow_pickle=True)\n",
        "test_y = np.load('/content/drive/MyDrive/framebot/data/test_label.npy', allow_pickle=True)\n"
      ]
    },
    {
      "cell_type": "code",
      "execution_count": null,
      "metadata": {
        "id": "p68AV7HTzOeq"
      },
      "outputs": [],
      "source": [
        "# normalize the data\n",
        "train_x = train_x / 2\n",
        "val_x = val_x / 2\n",
        "test_x = test_x / 2"
      ]
    },
    {
      "cell_type": "code",
      "execution_count": null,
      "metadata": {
        "id": "p8diWgFn5JNM"
      },
      "outputs": [],
      "source": [
        "# flatten the data\n",
        "def flatten_data(data):\n",
        "    flat_data = []\n",
        "    for i in data:\n",
        "        flat_data.append(i.flatten())\n",
        "\n",
        "    return flat_data"
      ]
    },
    {
      "cell_type": "code",
      "execution_count": null,
      "metadata": {
        "id": "hZfK8Teh-K6k"
      },
      "outputs": [],
      "source": [
        "train_x_ = flatten_data(train_x)\n",
        "train_y_ = flatten_data(train_y)\n",
        "\n",
        "val_x_ = flatten_data(val_x)\n",
        "val_y_ = flatten_data(val_y)\n",
        "\n",
        "test_x_ = flatten_data(test_x) \n",
        "test_y_ = flatten_data(test_y)"
      ]
    },
    {
      "cell_type": "code",
      "execution_count": null,
      "metadata": {
        "id": "d04_O01q9VUP"
      },
      "outputs": [],
      "source": [
        "# Hyper parameters\n",
        "AUTO = tf.data.experimental.AUTOTUNE\n",
        "\n",
        "BATCH_SIZE = 1024\n",
        "BUFFER_SIZE = 400000\n",
        "\n",
        "STEPS_PER_EPOCH = len(train_x_) // BATCH_SIZE\n",
        "VALID_STEPS = len(val_x_) // BATCH_SIZE\n",
        "\n",
        "train_steps = len(train_x_) // BATCH_SIZE"
      ]
    },
    {
      "cell_type": "code",
      "execution_count": null,
      "metadata": {
        "id": "819lpNnl5xug"
      },
      "outputs": [],
      "source": [
        "train_dataset = tf.data.Dataset.from_tensor_slices((train_x_, train_y_))\n",
        "train_dataset = train_dataset.shuffle(BUFFER_SIZE)\n",
        "train_dataset = train_dataset.batch(BATCH_SIZE)\n",
        "\n",
        "val_dataset = tf.data.Dataset.from_tensor_slices((val_x_, val_y_))\n",
        "val_dataset = val_dataset.shuffle(BUFFER_SIZE)\n",
        "val_dataset = val_dataset.batch(BATCH_SIZE)\n",
        "\n",
        "test_dataset = tf.data.Dataset.from_tensor_slices((test_x_, test_y_))\n",
        "test_dataset = test_dataset.batch(BATCH_SIZE)"
      ]
    },
    {
      "cell_type": "code",
      "execution_count": null,
      "metadata": {
        "colab": {
          "base_uri": "https://localhost:8080/"
        },
        "id": "nTvSKkc2O-Yg",
        "outputId": "1d937c94-6134-4721-dca1-f5e0cda73924"
      },
      "outputs": [
        {
          "output_type": "execute_result",
          "data": {
            "text/plain": [
              "(TensorSpec(shape=(None, 1050), dtype=tf.float32, name=None),\n",
              " TensorSpec(shape=(None, 1620), dtype=tf.float32, name=None))"
            ]
          },
          "metadata": {},
          "execution_count": 10
        }
      ],
      "source": [
        "train_dataset.element_spec"
      ]
    },
    {
      "cell_type": "code",
      "execution_count": null,
      "metadata": {
        "colab": {
          "base_uri": "https://localhost:8080/"
        },
        "id": "1sD7DSGEOKYX",
        "outputId": "db5d0cec-a5d0-4f34-8739-4155fe462cfb"
      },
      "outputs": [
        {
          "output_type": "execute_result",
          "data": {
            "text/plain": [
              "(TensorSpec(shape=(None, 1050), dtype=tf.float32, name=None),\n",
              " TensorSpec(shape=(None, 1620), dtype=tf.float32, name=None))"
            ]
          },
          "metadata": {},
          "execution_count": 11
        }
      ],
      "source": [
        "val_dataset.element_spec"
      ]
    },
    {
      "cell_type": "code",
      "execution_count": null,
      "metadata": {
        "colab": {
          "base_uri": "https://localhost:8080/"
        },
        "id": "80t_0lL1XJD-",
        "outputId": "7f23644c-a770-4b55-e738-9f1e3a752521"
      },
      "outputs": [
        {
          "output_type": "execute_result",
          "data": {
            "text/plain": [
              "(TensorSpec(shape=(None, 1050), dtype=tf.float32, name=None),\n",
              " TensorSpec(shape=(None, 1620), dtype=tf.float32, name=None))"
            ]
          },
          "metadata": {},
          "execution_count": 12
        }
      ],
      "source": [
        "test_dataset.element_spec"
      ]
    },
    {
      "cell_type": "markdown",
      "metadata": {
        "id": "PpG-J2CF_j34"
      },
      "source": [
        "MODEL"
      ]
    },
    {
      "cell_type": "code",
      "execution_count": null,
      "metadata": {
        "id": "-eXkSmwqw67s"
      },
      "outputs": [],
      "source": [
        "with tpu_strategy.scope():\n",
        "    model = tf.keras.Sequential([\n",
        "        tf.keras.layers.Input(shape=(1050,)),\n",
        "        # unit 0\n",
        "        tf.keras.layers.Dense(2048, activation='elu'),\n",
        "        tf.keras.layers.BatchNormalization(),\n",
        "        tf.keras.layers.Dropout(rate=0.2),\n",
        "        # unit 1\n",
        "        tf.keras.layers.Dense(2048, activation='elu'),\n",
        "        tf.keras.layers.BatchNormalization(),\n",
        "        tf.keras.layers.Dropout(rate=0.2),\n",
        "        # unit 2\n",
        "        tf.keras.layers.Dense(2048, activation='elu'),\n",
        "        \n",
        "        tf.keras.layers.Dense(1620, activation='sigmoid')\n",
        "    ])\n",
        "\n",
        "    model.compile(optimizer=tf.keras.optimizers.Adam(),\n",
        "              loss=tf.keras.losses.BinaryCrossentropy(from_logits=False),\n",
        "              metrics=['accuracy'])"
      ]
    },
    {
      "cell_type": "code",
      "execution_count": null,
      "metadata": {
        "id": "FEQAJl89SXZI"
      },
      "outputs": [],
      "source": [
        "model.summary()"
      ]
    },
    {
      "cell_type": "code",
      "execution_count": null,
      "metadata": {
        "id": "yzhCXzojLTFo"
      },
      "outputs": [],
      "source": [
        "EPOCHS = 100"
      ]
    },
    {
      "cell_type": "code",
      "execution_count": null,
      "metadata": {
        "id": "uOutOghd72_I"
      },
      "outputs": [],
      "source": [
        "history = model.fit(train_dataset, validation_data=val_dataset, epochs=EPOCHS)\n",
        "final_accuracy = history.history[\"val_accuracy\"][-5:]\n",
        "print(\"FINAL ACCURACY MEAN-5: \", np.mean(final_accuracy))"
      ]
    },
    {
      "cell_type": "code",
      "execution_count": null,
      "metadata": {
        "id": "8bEmLckhS4tq"
      },
      "outputs": [],
      "source": [
        "# save the model\n",
        "# model.save('/content/drive/MyDrive/framebot/model/V1.01/model.h5')"
      ]
    },
    {
      "cell_type": "code",
      "execution_count": null,
      "metadata": {
        "id": "iYHs-hApTMCP"
      },
      "outputs": [],
      "source": [
        "# reconstructed_model = tf.keras.models.load_model('/content/drive/MyDrive/framebot/model/V1.01/model.h5')"
      ]
    },
    {
      "cell_type": "code",
      "execution_count": null,
      "metadata": {
        "id": "uPNS4LkST9qw"
      },
      "outputs": [],
      "source": [
        "#reconstructed_model.summary()"
      ]
    },
    {
      "cell_type": "code",
      "execution_count": null,
      "metadata": {
        "id": "ZKaJaVyiXLHz",
        "colab": {
          "base_uri": "https://localhost:8080/",
          "height": 72
        },
        "outputId": "3627f6bd-a9c7-442f-b4f2-b3bbbd6e30eb"
      },
      "outputs": [
        {
          "output_type": "execute_result",
          "data": {
            "text/plain": [
              "'\\nhistory = reconstructed_model.fit(train_dataset, validation_data=val_dataset, epochs=EPOCHS)\\nfinal_accuracy = history.history[\"val_accuracy\"][-5:]\\nprint(\"FINAL ACCURACY MEAN-5: \", np.mean(final_accuracy))\\n'"
            ],
            "application/vnd.google.colaboratory.intrinsic+json": {
              "type": "string"
            }
          },
          "metadata": {},
          "execution_count": 21
        }
      ],
      "source": [
        "\"\"\"\n",
        "history = reconstructed_model.fit(train_dataset, validation_data=val_dataset, epochs=EPOCHS)\n",
        "final_accuracy = history.history[\"val_accuracy\"][-5:]\n",
        "print(\"FINAL ACCURACY MEAN-5: \", np.mean(final_accuracy))\n",
        "\"\"\""
      ]
    },
    {
      "cell_type": "code",
      "execution_count": null,
      "metadata": {
        "id": "CFoytqs0ZevJ",
        "colab": {
          "base_uri": "https://localhost:8080/",
          "height": 755
        },
        "outputId": "8bc2dc3f-517d-4678-d5a4-0f8e54e4cc4b"
      },
      "outputs": [
        {
          "output_type": "display_data",
          "data": {
            "text/plain": [
              "<Figure size 720x720 with 2 Axes>"
            ],
            "image/png": "[encoded data removed]"
          },
          "metadata": {
            "needs_background": "light"
          }
        }
      ],
      "source": [
        "def display_training_curves(training, validation, title, subplot):\n",
        "    ax = plt.subplot(subplot)\n",
        "    ax.plot(training)\n",
        "    ax.plot(validation)\n",
        "    ax.set_title('model '+ title)\n",
        "    ax.set_ylabel(title)\n",
        "    ax.set_xlabel('epoch')\n",
        "    ax.legend(['training', 'validation'])\n",
        "\n",
        "plt.subplots(figsize=(10,10))\n",
        "plt.tight_layout()\n",
        "display_training_curves(history.history['accuracy'], history.history['val_accuracy'], 'accuracy', 211)\n",
        "display_training_curves(history.history['loss'], history.history['val_loss'], 'loss', 212)"
      ]
    },
    {
      "cell_type": "code",
      "source": [
        "# load model\n",
        "model = tf.keras.models.load_model('/content/drive/MyDrive/framebot/model/V1.01/model.h5')"
      ],
      "metadata": {
        "id": "U0q3br9ChP20"
      },
      "execution_count": null,
      "outputs": []
    },
    {
      "cell_type": "code",
      "execution_count": null,
      "metadata": {
        "id": "yqvCG2l1wLB_",
        "colab": {
          "base_uri": "https://localhost:8080/"
        },
        "outputId": "a1d3a107-b9fa-43d8-8634-3b0227bd388d"
      },
      "outputs": [
        {
          "output_type": "stream",
          "name": "stdout",
          "text": [
            "20/20 [==============================] - 2s 52ms/step - loss: 3.6426e-07 - accuracy: 0.9965\n"
          ]
        }
      ],
      "source": [
        "# evaluate\n",
        "result = model.evaluate(test_dataset)"
      ]
    }
  ],
  "metadata": {
    "accelerator": "TPU",
    "colab": {
      "collapsed_sections": [],
      "machine_shape": "hm",
      "provenance": [],
      "mount_file_id": "1ZVn0WOsZYGDaBNTSTSuLaZnPH3TJD4fR",
      "authorship_tag": "ABX9TyMPIfHqo1TVXmCV3CVHLbKC"
    },
    "kernelspec": {
      "display_name": "Python 3",
      "name": "python3"
    },
    "language_info": {
      "name": "python"
    }
  },
  "nbformat": 4,
  "nbformat_minor": 0
}