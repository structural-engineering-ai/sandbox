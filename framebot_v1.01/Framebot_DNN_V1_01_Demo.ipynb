{
  "nbformat": 4,
  "nbformat_minor": 0,
  "metadata": {
    "colab": {
      "provenance": [],
      "collapsed_sections": [],
      "mount_file_id": "12voHAUFBS1xqKEdLwMi7kjkHlNpkVrkI",
      "authorship_tag": "ABX9TyPe6uF1JsEBWnJ8r89/BUqi"
    },
    "kernelspec": {
      "name": "python3",
      "display_name": "Python 3"
    },
    "language_info": {
      "name": "python"
    }
  },
  "cells": [
    {
      "cell_type": "code",
      "source": [
        "\"\"\"\n",
        "Demo to generate building data and visualize output from model.\n",
        "\n",
        "UPDATE FILE LOCATIONS TO WHERE YOUR DATA AND MODEL ARE LOCATED\n",
        "\"\"\""
      ],
      "metadata": {
        "id": "64OpC3jcAbs8"
      },
      "execution_count": null,
      "outputs": []
    },
    {
      "cell_type": "code",
      "execution_count": null,
      "metadata": {
        "id": "X4NGRYSl19yI"
      },
      "outputs": [],
      "source": [
        "%matplotlib inline"
      ]
    },
    {
      "cell_type": "code",
      "source": [
        "import numpy as np\n",
        "import os\n",
        "import io\n",
        "import unittest\n",
        "import random\n",
        "import copy\n",
        "import tensorflow as tf\n",
        "\n",
        "# needed for render functions\n",
        "import matplotlib.pyplot as plt\n",
        "from matplotlib.path import Path\n",
        "import matplotlib.patches as patches\n",
        "import mpl_toolkits.mplot3d.art3d as art3d\n",
        "from matplotlib.patches import Rectangle, PathPatch"
      ],
      "metadata": {
        "id": "Q0LFR-Ba2XLb"
      },
      "execution_count": null,
      "outputs": []
    },
    {
      "cell_type": "code",
      "source": [
        "# Hyperparameters for building generator\n",
        "\n",
        "X_BAYS = 5    # max width in X-axis\n",
        "Z_BAYS = 5    # max width in Z-axis\n",
        "Y_BAYS = 5    # max height in Y-axis\n",
        "\n",
        "GRID_BAYS = X_BAYS + Z_BAYS\n",
        "\n",
        "MIN_BLDG_DIM = 3  # minimum segments for the building width in X and Z grids\n",
        "MIN_BLDG_HEIGHT = 1 # minimum segments for building height in Y-axis grids\n",
        "\n",
        "FRAME_TYPES = ['braced', 'shear_wall']"
      ],
      "metadata": {
        "id": "gPaX5bh9HqGp"
      },
      "execution_count": null,
      "outputs": []
    },
    {
      "cell_type": "markdown",
      "source": [
        "LOAD DATA"
      ],
      "metadata": {
        "id": "-IcY1XRVCs8w"
      }
    },
    {
      "cell_type": "code",
      "source": [
        "test_x = np.load('/content/drive/MyDrive/framebot/data/test_input.npy', allow_pickle=True)\n",
        "test_y = np.load('/content/drive/MyDrive/framebot/data/test_label.npy', allow_pickle=True)"
      ],
      "metadata": {
        "id": "iKfcUt0yCsjf"
      },
      "execution_count": null,
      "outputs": []
    },
    {
      "cell_type": "code",
      "source": [
        "# normalize the data\n",
        "test_x_normal = test_x / 2"
      ],
      "metadata": {
        "id": "WLNG1COfC1-X"
      },
      "execution_count": null,
      "outputs": []
    },
    {
      "cell_type": "code",
      "source": [
        "# flatten the data\n",
        "def flatten_data(data):\n",
        "    flat_data = []\n",
        "    for i in data:\n",
        "        flat_data.append(i.flatten())\n",
        "\n",
        "    return flat_data"
      ],
      "metadata": {
        "id": "FGY2--QvC5TA"
      },
      "execution_count": null,
      "outputs": []
    },
    {
      "cell_type": "code",
      "source": [
        "test_x_flat = flatten_data(test_x_normal)"
      ],
      "metadata": {
        "id": "FOB8fABQDE_n"
      },
      "execution_count": null,
      "outputs": []
    },
    {
      "cell_type": "code",
      "source": [
        "num_bldgs = len(test_x_flat)\n",
        "num_bldgs"
      ],
      "metadata": {
        "id": "uBM1QUJIDn1_",
        "colab": {
          "base_uri": "https://localhost:8080/"
        },
        "outputId": "59e09797-6b81-41bf-9d67-baef7c61424e"
      },
      "execution_count": null,
      "outputs": [
        {
          "output_type": "execute_result",
          "data": {
            "text/plain": [
              "20000"
            ]
          },
          "metadata": {},
          "execution_count": 8
        }
      ]
    },
    {
      "cell_type": "markdown",
      "source": [
        "DATA RENDERERS"
      ],
      "metadata": {
        "id": "caBpC2mmCBR9"
      }
    },
    {
      "cell_type": "code",
      "source": [
        "def arch_render(arch_model):\n",
        "    \"\"\"\n",
        "    V1.01 Update - dimensions layers are 0 for under 30ft and 1 for over 30ft\n",
        "    - just render everything at the moment with 1.0\n",
        "    - application sending info into model can handle ratios for final rendering\n",
        "      and scale the output to actual - future feature\n",
        "    \"\"\"\n",
        "    scale = 30 # arbitrary number\n",
        "    fig = plt.figure()\n",
        "    ax = fig.add_subplot(projection='3d')\n",
        "    ax._axis3don = False\n",
        "\n",
        "    # get building dimensions\n",
        "    b_length = 0\n",
        "    b_width = 0\n",
        "\n",
        "    for i in range(X_BAYS):\n",
        "        # count from back\n",
        "        r_i = (X_BAYS - 1) - i\n",
        "        walls_x = arch_model[r_i][:, 0:X_BAYS]\n",
        "        is_zero = np.sum(walls_x)\n",
        "        if is_zero > 0:\n",
        "            b_length = (X_BAYS) - i\n",
        "            break\n",
        "\n",
        "    for i in range(Z_BAYS):\n",
        "        # count from back\n",
        "        r_i = ((X_BAYS + Z_BAYS) - 1) - i\n",
        "        walls_z = arch_model[r_i][:, 0:X_BAYS]\n",
        "        is_zero = np.sum(walls_z)\n",
        "        if is_zero > 0:\n",
        "            b_width = (Z_BAYS) - i\n",
        "            break\n",
        "\n",
        "    \n",
        "    # extract building lateral type from model\n",
        "    ftype = 0\n",
        "    num = 1\n",
        "    brace_bldg = arch_model[-2]\n",
        "    shear_bldg = arch_model[-1]\n",
        "    if num in brace_bldg:\n",
        "        ftype = 0\n",
        "    elif num in shear_bldg:\n",
        "        ftype = 1\n",
        "    else:\n",
        "        raise ValueError('lat_type out of range')\n",
        "\n",
        "    # extract dimension ratios\n",
        "    # V1.01 update\n",
        "\n",
        "    \"\"\"\n",
        "    arch_x_dim_ratio = arch_model[-4]\n",
        "    arch_z_dim_ratio = arch_model[-3]\n",
        "    x_ratio = arch_x_dim_ratio[0][0]\n",
        "    z_ratio = arch_z_dim_ratio[0][0]\n",
        "    \n",
        "    x_dim = x_ratio * scale\n",
        "    z_dim = z_ratio * scale\n",
        "    \"\"\"\n",
        "    x_dim = scale  # just use scale here\n",
        "    z_dim = scale\n",
        "    y_dim = 0.5 * scale\n",
        "    \n",
        "    x_limit = x_dim * Z_BAYS\n",
        "    z_limit = z_dim * X_BAYS\n",
        "    y_limit = y_dim * Y_BAYS\n",
        "\n",
        "    ax.set_xlim(0, x_limit)\n",
        "    ax.set_ylim(0, z_limit)\n",
        "    ax.set_zlim(0, y_limit)\n",
        "\n",
        "    # adjustment for T buildings\n",
        "    adj_width = 0\n",
        "    adj_length = 0\n",
        "    \n",
        "    if ftype == 0:\n",
        "        adj_width = 3\n",
        "        adj_length = 3\n",
        "    else:\n",
        "        adj_width = 3\n",
        "        adj_length = 3\n",
        "\n",
        "    # draw walls in x-axis\n",
        "    grid = 0\n",
        "    for i in range(X_BAYS):\n",
        "        # anchor point coordinates\n",
        "        height = y_dim\n",
        "        width = x_dim\n",
        "        if b_length == 3:\n",
        "            adj_length = 1\n",
        "        if i < (adj_length):\n",
        "            grid = z_dim * i\n",
        "        else:\n",
        "            grid = z_dim * (i + 1)\n",
        "        \n",
        "        a_x = 0\n",
        "        a_y = 0\n",
        "        for j in range(Y_BAYS):\n",
        "            a_x = 0\n",
        "            a_y = height * j\n",
        "            for k in range(X_BAYS):\n",
        "                a_x = width * k\n",
        "                if arch_model[i][j][k]==1:\n",
        "                    wall = Rectangle((a_x, a_y), width, height, facecolor='blue', edgecolor='black', alpha=0.2)\n",
        "                    ax.add_patch(wall)\n",
        "                    art3d.pathpatch_2d_to_3d(wall, z=grid, zdir=\"y\")\n",
        "                elif arch_model[i][j][k]==2:\n",
        "                    wall = Rectangle((a_x, a_y), width, height, facecolor='orange', edgecolor='black', alpha=0.2)\n",
        "                    ax.add_patch(wall)\n",
        "                    art3d.pathpatch_2d_to_3d(wall, z=grid, zdir=\"y\")\n",
        "                else:\n",
        "                    if arch_model[i][j][k]==0:\n",
        "                        pass\n",
        "                    else:\n",
        "                        raise ValueError('wall render wall type out of range')\n",
        "       \n",
        "\n",
        "    # draw walls in z-axis\n",
        "    grid = 0\n",
        "    for z in range(Z_BAYS):\n",
        "        # shift i to z elevation layers\n",
        "        i = X_BAYS + z\n",
        "        if b_width == 3:\n",
        "            adj_width = 1\n",
        "        if z < (adj_width):   #b_width-adj\n",
        "            grid = x_dim * z\n",
        "        else:\n",
        "            grid = x_dim * (z + 1)\n",
        "\n",
        "        height = y_dim\n",
        "        width = z_dim\n",
        "        a_x = 0\n",
        "        a_y = 0\n",
        "        for j in range(Y_BAYS):\n",
        "            a_x = 0\n",
        "            a_y = height * j\n",
        "            for k in range(Z_BAYS):\n",
        "                a_x = width * k\n",
        "                if arch_model[i][j][k]==1:\n",
        "                    wall = Rectangle((a_x, a_y), width, height, facecolor='green', alpha=0.2)\n",
        "                    ax.add_patch(wall)\n",
        "                    art3d.pathpatch_2d_to_3d(wall, z=grid, zdir=\"x\")\n",
        "                elif arch_model[i][j][k]==2:\n",
        "                    wall = Rectangle((a_x, a_y), width, height, facecolor='red',  alpha=0.2)\n",
        "                    ax.add_patch(wall)\n",
        "                    art3d.pathpatch_2d_to_3d(wall, z=grid, zdir=\"x\")\n",
        "                else:\n",
        "                    if arch_model[i][j][k]==0:\n",
        "                        pass\n",
        "                    else:\n",
        "                        raise ValueError('wall render wall type out of range')\n",
        "    \n",
        "    # Draw floor plates\n",
        "    grid = 0\n",
        "    for i in range(Y_BAYS + 1):\n",
        "        # anchor point coordinates\n",
        "        width = x_dim\n",
        "        length = z_dim\n",
        "        grid = y_dim * i\n",
        "        a_x = 0\n",
        "        a_y = 0\n",
        "        for j in range(Y_BAYS):\n",
        "            a_x = 0\n",
        "            a_y = length * j\n",
        "            for z in range(X_BAYS):\n",
        "                # shift k to floor plate columns\n",
        "                k = X_BAYS + z\n",
        "                a_x = width * z\n",
        "                if arch_model[i][j][k]==2:\n",
        "                    wall = Rectangle((a_x, a_y), width, length, facecolor='pink', edgecolor='black', alpha=0.2)\n",
        "                    ax.add_patch(wall)\n",
        "                    art3d.pathpatch_2d_to_3d(wall, z=grid, zdir=\"z\")\n",
        "                else:\n",
        "                    if arch_model[i][j][k]==0:\n",
        "                        pass\n",
        "                    else:\n",
        "                        raise ValueError('wall render wall type out of range')\n",
        "    \n",
        "    # Draw columns\n",
        "    grid = 0\n",
        "    for i in range(Y_BAYS):\n",
        "        # anchor point coordinates\n",
        "        width = x_dim\n",
        "        length = z_dim\n",
        "        \n",
        "        grid = y_dim * (i + 1)\n",
        "        a_x = 0\n",
        "        a_y = 0\n",
        "        for j in range(Z_BAYS):\n",
        "            a_x = 0\n",
        "            a_y = length * j\n",
        "            for z in range(X_BAYS):\n",
        "                # shift k to floor plate columns\n",
        "                k = 2 * X_BAYS + z\n",
        "                a_x = width * z\n",
        "                if arch_model[i][j][k]==1:\n",
        "                    x_bot = x_top = a_x\n",
        "                    y_bot = y_top = a_y\n",
        "                    z_bot = i * y_dim\n",
        "                    z_top = (i + 1) * y_dim\n",
        "                    col = art3d.Line3D((x_bot, x_top), (y_bot, y_top), (z_bot, z_top), color='black')\n",
        "                    ax.add_line(col)\n",
        "                    # add column to right-most gridline -> bay to gridline adjustment\n",
        "                    if z < (X_BAYS - 1):\n",
        "                        # check next column for zero\n",
        "                        if arch_model[i][j][(k+1)]==0:\n",
        "                            x_bot = x_top = width * (z + 1)\n",
        "                            y_bot = y_top = a_y\n",
        "                            z_bot = i * y_dim\n",
        "                            z_top = (i + 1) * y_dim\n",
        "                            col = art3d.Line3D((x_bot, x_top), (y_bot, y_top), (z_bot, z_top), color='black')\n",
        "                            ax.add_line(col)\n",
        "                    # expand column line to last gridline -> bay to gridline adjustment\n",
        "                    if j <= (Z_BAYS + 1):\n",
        "                        # check row below for zero\n",
        "                        if arch_model[i][(j+1)][k]==0:\n",
        "                            x_bot = x_top = a_x\n",
        "                            y_bot = y_top = length * (j + 1)\n",
        "                            z_bot = i * y_dim\n",
        "                            z_top = (i + 1) * y_dim\n",
        "                            col = art3d.Line3D((x_bot, x_top), (y_bot, y_top), (z_bot, z_top), color='black')\n",
        "                            ax.add_line(col)\n",
        "                    # expand to catch diagonal\n",
        "                    if z < (X_BAYS - 1) and j <= (Z_BAYS + 1):\n",
        "                        # check row below for zero\n",
        "                        if arch_model[i][(j+1)][(k+1)]==0:\n",
        "                            x_bot = x_top = width * (z + 1)\n",
        "                            y_bot = y_top = length * (j + 1)\n",
        "                            z_bot = i * y_dim\n",
        "                            z_top = (i + 1) * y_dim\n",
        "                            col = art3d.Line3D((x_bot, x_top), (y_bot, y_top), (z_bot, z_top), color='black')\n",
        "                            ax.add_line(col)\n",
        "\n",
        "                \n",
        "    plt.show()"
      ],
      "metadata": {
        "id": "SSiNm8M_CAjp"
      },
      "execution_count": null,
      "outputs": []
    },
    {
      "cell_type": "code",
      "source": [
        "def struct_render(struct_model):\n",
        "    \"\"\"\n",
        "    V1.01 - revision\n",
        "    - removed x and z scale ratio so just multiply by 1 and scale\n",
        "    - walls are offset to new columns - adjust renderer to grab info\n",
        "    \"\"\"\n",
        "    scale = 30 # arbitrary number\n",
        "    fig = plt.figure()\n",
        "    ax = fig.add_subplot(projection='3d')\n",
        "    ax._axis3don = False\n",
        "\n",
        "    # extract dimension ratios\n",
        "    \"\"\"\n",
        "    V1.01 - revision\n",
        "    <removed>\n",
        "\n",
        "    x_dim_ratio = struct_model[-2]\n",
        "    z_dim_ratio = struct_model[-1]\n",
        "    x_ratio = x_dim_ratio[0][0]\n",
        "    z_ratio = z_dim_ratio[0][0]\n",
        "\n",
        "    x_dim = x_ratio * scale\n",
        "    z_dim = z_ratio * scale\n",
        "    \"\"\"\n",
        "    x_dim = scale     # V1.01  update\n",
        "    z_dim = scale     # V1.01  update\n",
        "    y_dim = 0.5 * scale\n",
        "    \n",
        "    x_limit = x_dim * (Z_BAYS + 1)\n",
        "    z_limit = z_dim * (X_BAYS + 1)\n",
        "    y_limit = y_dim * Y_BAYS\n",
        "\n",
        "    ax.set_xlim(0, x_limit)\n",
        "    ax.set_ylim(0, z_limit)\n",
        "    ax.set_zlim(0, y_limit)\n",
        "\n",
        "    # structural array offsets\n",
        "    beam_offset = X_BAYS + 1\n",
        "    lat_offset = 2 * X_BAYS + 2\n",
        "    floor_offset = 3 * X_BAYS + 2\n",
        "    wall_offset = 4 * X_BAYS + 2     # V1.01  update\n",
        "\n",
        "    # Draw columns =========================================\n",
        "    for i in range(X_BAYS+1):\n",
        "        # anchor point coordinates\n",
        "        a_y = 0\n",
        "        for j in range(Y_BAYS):\n",
        "            a_x = 0\n",
        "            a_y = y_dim * j\n",
        "            a_y_top = y_dim * (j + 1)\n",
        "            for k in range(X_BAYS+1):\n",
        "                a_x = x_dim * k\n",
        "                if struct_model[i][j][k] != 0:\n",
        "                    x_bot = x_top = a_x\n",
        "                    y_bot = y_top = z_dim * i\n",
        "                    z_bot = a_y\n",
        "                    z_top = a_y_top\n",
        "                    col = art3d.Line3D((x_bot, x_top), (y_bot, y_top), (z_bot, z_top), color='black', alpha=0.4)\n",
        "                    ax.add_line(col)\n",
        "    \n",
        "    # Draw beams ==============================================\n",
        "    # x-axis beams\n",
        "    grid = 0\n",
        "    for i in range(X_BAYS+1):\n",
        "        # anchor point coordinates\n",
        "        a_y = 0\n",
        "        grid = z_dim * i\n",
        "        for j in range(Y_BAYS):\n",
        "            a_x = 0\n",
        "            a_y = y_dim * (j + 1)\n",
        "            for z in range(X_BAYS):\n",
        "                k = beam_offset + z\n",
        "                a_x = x_dim * z\n",
        "                a_x_end = x_dim * (z + 1)\n",
        "                if struct_model[i][j][k] != 0:\n",
        "                    x_bot = a_x\n",
        "                    x_top = a_x_end\n",
        "                    y_bot = grid\n",
        "                    y_top = grid\n",
        "                    z_bot = a_y\n",
        "                    z_top = a_y\n",
        "                    col = art3d.Line3D((x_bot, x_top), (y_bot, y_top), (z_bot, z_top), color='purple', alpha=0.8)\n",
        "                    ax.add_line(col)\n",
        "    # z-axis beams\n",
        "    grid = 0\n",
        "    for i in range(Z_BAYS+1):\n",
        "        # anchor point coordinates\n",
        "        a_x = z_dim * i\n",
        "        a_x_end = z_dim * (i + 1)\n",
        "        for j in range(Y_BAYS):\n",
        "            a_y = y_dim * (j + 1)\n",
        "            for z in range(Z_BAYS+1):\n",
        "                k = beam_offset + z\n",
        "                grid = x_dim * z\n",
        "                offset_i = i + (X_BAYS+1)\n",
        "                if struct_model[offset_i][j][k] != 0:\n",
        "                    x_bot = grid\n",
        "                    x_top = grid\n",
        "                    y_bot = a_x\n",
        "                    y_top = a_x_end\n",
        "                    z_bot = a_y\n",
        "                    z_top = a_y\n",
        "                    col = art3d.Line3D((x_bot, x_top), (y_bot, y_top), (z_bot, z_top), color='red', alpha=0.8)\n",
        "                    ax.add_line(col)\n",
        "\n",
        "    # Draw floor plates =======================================\n",
        "    grid = 0\n",
        "    for i in range(Y_BAYS + 1):\n",
        "        # anchor point coordinates\n",
        "        width = x_dim\n",
        "        length = z_dim\n",
        "        grid = y_dim * i\n",
        "        a_y = 0\n",
        "        for j in range(Y_BAYS):\n",
        "            a_x = 0\n",
        "            a_y = length * j\n",
        "            for z in range(X_BAYS):\n",
        "                # shift k to floor plate columns\n",
        "                k = floor_offset + z\n",
        "                a_x = width * z\n",
        "                if struct_model[i][j][k]==1:\n",
        "                    wall = Rectangle((a_x, a_y), width, length, facecolor='blue', alpha=0.2)\n",
        "                    ax.add_patch(wall)\n",
        "                    art3d.pathpatch_2d_to_3d(wall, z=grid, zdir=\"z\")\n",
        "                else:\n",
        "                    if struct_model[i][j][k]==0:\n",
        "                        pass\n",
        "                    else:\n",
        "                        raise ValueError('wall render wall type out of range')\n",
        "\n",
        "    # Draw BRACES AND WALLS================================================\n",
        "    \"\"\"\n",
        "    V1.01 Update:\n",
        "    - split wall and braces into two different functions due to new data\n",
        "      layout\n",
        "    - changes too numerous -> refer to old verision to compare\n",
        "    \"\"\"\n",
        "    grid = 0\n",
        "    height = y_dim\n",
        "    width = x_dim\n",
        "    length = z_dim\n",
        "\n",
        "    # X-AXIS --\n",
        "    # V1.01 - Braces only\n",
        "    for i in range(X_BAYS+1):\n",
        "        # anchor point coordinates\n",
        "        a_y = 0\n",
        "        grid = z_dim * i\n",
        "        for j in range(Y_BAYS):\n",
        "            a_x = 0\n",
        "            a_y_bot = y_dim * j\n",
        "            a_y_top = y_dim * (j + 1)\n",
        "            for z in range(X_BAYS):\n",
        "                k = lat_offset + z\n",
        "                a_x = x_dim * z\n",
        "                a_x_end = x_dim * (z + 1)\n",
        "                if struct_model[i][j][k] == 1:\n",
        "                    x_bot = a_x\n",
        "                    x_top = a_x_end\n",
        "                    y_bot = grid\n",
        "                    y_top = grid\n",
        "                    z_bot = a_y_bot\n",
        "                    z_top = a_y_top\n",
        "                    col = art3d.Line3D((x_bot, x_top), (y_bot, y_top), (z_bot, z_top), color='orange', lw=2)\n",
        "                    ax.add_line(col)\n",
        "\n",
        "    # V1.01 - Walls only              \n",
        "    for i in range(X_BAYS+1):\n",
        "        # anchor point coordinates\n",
        "        a_y = 0\n",
        "        grid = z_dim * i\n",
        "        for j in range(Y_BAYS):\n",
        "            a_x = 0\n",
        "            a_y_bot = y_dim * j\n",
        "            for z in range(X_BAYS):\n",
        "                k = wall_offset + z\n",
        "                a_x = x_dim * z\n",
        "                a_x_end = x_dim * (z + 1)\n",
        "                if struct_model[i][j][k] == 1:\n",
        "                    wall = Rectangle((a_x, a_y_bot), width, height, facecolor='orange', alpha=0.2)\n",
        "                    ax.add_patch(wall)\n",
        "                    art3d.pathpatch_2d_to_3d(wall, z=grid, zdir=\"y\")\n",
        "                \n",
        "    # Z Axis --- \n",
        "    # V1.01 Braces only\n",
        "    grid = 0\n",
        "    for i in range(Z_BAYS+1):\n",
        "        # anchor point coordinates\n",
        "        a_y = 0\n",
        "        grid = x_dim * i\n",
        "        for j in range(Y_BAYS):\n",
        "            a_x = 0\n",
        "            a_y_bot = y_dim * j\n",
        "            a_y_top = y_dim * (j + 1)\n",
        "            for z in range(Z_BAYS):\n",
        "                k = lat_offset + z\n",
        "                a_x = z_dim * z\n",
        "                a_x_end = z_dim * (z + 1)\n",
        "                offset_i = i + (X_BAYS+1)\n",
        "                if struct_model[offset_i][j][k] == 1:\n",
        "                    x_bot = grid\n",
        "                    x_top = grid\n",
        "                    y_bot = a_x\n",
        "                    y_top = a_x_end\n",
        "                    z_bot = a_y_bot\n",
        "                    z_top = a_y_top\n",
        "                    col = art3d.Line3D((x_bot, x_top), (y_bot, y_top), (z_bot, z_top), color='green', lw=2)\n",
        "                    ax.add_line(col)\n",
        "                \n",
        "    # Draw walls =============================================\n",
        "    # z-axis\n",
        "    grid = 0\n",
        "    for i in range(Z_BAYS+1):\n",
        "        # anchor point coordinates\n",
        "        grid = x_dim * i\n",
        "        a_y = 0\n",
        "        # offset = (Z_BAYS+1) + i\n",
        "        for j in range(Y_BAYS):\n",
        "            a_x = 0\n",
        "            a_y_bot = y_dim * j\n",
        "            for z in range(Z_BAYS):\n",
        "                offset_i = i + (X_BAYS+1)\n",
        "                k = wall_offset + z\n",
        "                if struct_model[offset_i][j][k] == 1:\n",
        "                    a_x = z_dim * z\n",
        "                    wall = Rectangle((a_x, a_y_bot), length, height, facecolor='green', alpha=0.2)\n",
        "                    ax.add_patch(wall)\n",
        "                    art3d.pathpatch_2d_to_3d(wall, z=grid, zdir=\"x\")\n",
        "\n",
        "    plt.show()"
      ],
      "metadata": {
        "id": "08jMegbk2cK6"
      },
      "execution_count": null,
      "outputs": []
    },
    {
      "cell_type": "markdown",
      "source": [
        "LOAD MODEL"
      ],
      "metadata": {
        "id": "il4_6wmaGBsq"
      }
    },
    {
      "cell_type": "code",
      "source": [
        "# UPDATE YOUR FILE HERE TO LOAD SAVED MODEL\n",
        "model = tf.keras.models.load_model('/content/drive/MyDrive/framebot/model/V1.01/model.h5')"
      ],
      "metadata": {
        "id": "G_-avAyEGDT3"
      },
      "execution_count": null,
      "outputs": []
    },
    {
      "cell_type": "markdown",
      "source": [
        "EXECUTE MODEL"
      ],
      "metadata": {
        "id": "BcvqsxrLGY4g"
      }
    },
    {
      "cell_type": "code",
      "source": [
        "# get random building form test data\n",
        "bldg = random.randint(0, num_bldgs)\n",
        "print(bldg)\n",
        "# input arch data into model\n",
        "arch_input = test_x_flat[bldg]\n",
        "arch_input = arch_input[None, :]\n",
        "result = model.predict(arch_input)\n",
        "# prepare model output\n",
        "result = result.astype(int)\n",
        "result = result.reshape(12, 5, 27)"
      ],
      "metadata": {
        "colab": {
          "base_uri": "https://localhost:8080/"
        },
        "id": "pyIG2hcSGiJN",
        "outputId": "9037696d-0baf-4ca7-b92b-db50971f6b2c"
      },
      "execution_count": null,
      "outputs": [
        {
          "output_type": "stream",
          "name": "stdout",
          "text": [
            "8039\n",
            "1/1 [==============================] - 0s 24ms/step\n"
          ]
        }
      ]
    },
    {
      "cell_type": "code",
      "source": [
        "# render arch model\n",
        "arch_render(test_x[bldg])"
      ],
      "metadata": {
        "colab": {
          "base_uri": "https://localhost:8080/",
          "height": 248
        },
        "id": "uIgwPtGSHaTX",
        "outputId": "a8e3d9d2-f912-46a9-b929-ddb752af3973"
      },
      "execution_count": null,
      "outputs": [
        {
          "output_type": "display_data",
          "data": {
            "text/plain": [
              "<Figure size 432x288 with 1 Axes>"
            ],
            "image/png": "[encoded data removed]"
          },
          "metadata": {
            "needs_background": "light"
          }
        }
      ]
    },
    {
      "cell_type": "code",
      "source": [
        "# render structural model - label\n",
        "struct_render(test_y[bldg])"
      ],
      "metadata": {
        "colab": {
          "base_uri": "https://localhost:8080/",
          "height": 248
        },
        "id": "ehhYI7hQHsuX",
        "outputId": "faeb7545-d86d-494d-ea71-1f1bbb65f2ab"
      },
      "execution_count": null,
      "outputs": [
        {
          "output_type": "display_data",
          "data": {
            "text/plain": [
              "<Figure size 432x288 with 1 Axes>"
            ],
            "image/png": "[encoded data removed]"
          },
          "metadata": {
            "needs_background": "light"
          }
        }
      ]
    },
    {
      "cell_type": "code",
      "source": [
        "struct_render(result)"
      ],
      "metadata": {
        "colab": {
          "base_uri": "https://localhost:8080/",
          "height": 248
        },
        "id": "Ei_lTt4BKMEn",
        "outputId": "0c2e0592-ffee-48c4-a803-7a4ffa8796f1"
      },
      "execution_count": null,
      "outputs": [
        {
          "output_type": "display_data",
          "data": {
            "text/plain": [
              "<Figure size 432x288 with 1 Axes>"
            ],
            "image/png": "[encoded data removed]"
          },
          "metadata": {
            "needs_background": "light"
          }
        }
      ]
    }
  ]
}